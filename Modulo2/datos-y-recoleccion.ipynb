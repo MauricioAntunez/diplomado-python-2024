{
 "cells": [
  {
   "cell_type": "code",
   "execution_count": 1,
   "metadata": {},
   "outputs": [],
   "source": [
    "ans = input(\"¿Qué sabor quieres [vainilla]: \")\n",
    "if ans != \"\":\n",
    "    flavor = ans\n",
    "else:\n",
    "    flavor = \"vainilla\"\n"
   ]
  },
  {
   "cell_type": "code",
   "execution_count": 1,
   "metadata": {},
   "outputs": [],
   "source": [
    "ans = input(\"¿Qué sabor quieres [vainilla]: \")\n",
    "if ans:\n",
    "    flavor = ans\n",
    "else:\n",
    "    flavor = \"vainilla\""
   ]
  },
  {
   "cell_type": "code",
   "execution_count": null,
   "metadata": {},
   "outputs": [],
   "source": [
    "ans = input(\"¿Qué sabor quieres [vainilla]: \")\n",
    "flavor = ans or \"vainilla\""
   ]
  },
  {
   "cell_type": "code",
   "execution_count": null,
   "metadata": {},
   "outputs": [],
   "source": [
    "flavor = input(\"¿Qué sabor quieres [vainilla]: \") or \"vainilla\""
   ]
  },
  {
   "cell_type": "code",
   "execution_count": 3,
   "metadata": {},
   "outputs": [
    {
     "name": "stdout",
     "output_type": "stream",
     "text": [
      "Archivo 'ejemplo.txt' creado.\n"
     ]
    }
   ],
   "source": [
    "# Crear el archivo de ejemplo\n",
    "with open('ejemplo.txt', 'w') as f:\n",
    "    f.write('Línea 1: Hola mundo\\n')\n",
    "    f.write('Línea 2: Python es genial\\n')\n",
    "    f.write('Línea 3: Este es un ejemplo de lectura de archivos\\n')\n",
    "\n",
    "print(\"Archivo 'ejemplo.txt' creado.\")"
   ]
  },
  {
   "cell_type": "code",
   "execution_count": 4,
   "metadata": {},
   "outputs": [
    {
     "name": "stdout",
     "output_type": "stream",
     "text": [
      "Contenido del archivo usando f.read():\n",
      "Línea 1: Hola mundo\n",
      "Línea 2: Python es genial\n",
      "Línea 3: Este es un ejemplo de lectura de archivos\n",
      "\n"
     ]
    }
   ],
   "source": [
    "# Leer todo el contenido del archivo\n",
    "with open('ejemplo.txt', 'r') as f:\n",
    "    contenido = f.read()\n",
    "    print(\"Contenido del archivo usando f.read():\")\n",
    "    print(contenido)"
   ]
  },
  {
   "cell_type": "code",
   "execution_count": 5,
   "metadata": {},
   "outputs": [
    {
     "name": "stdout",
     "output_type": "stream",
     "text": [
      "True\n",
      "False\n",
      "5\n",
      "1\n",
      "2\n",
      "3\n",
      "4\n",
      "5\n",
      "1\n",
      "5\n",
      "15\n"
     ]
    }
   ],
   "source": [
    "# Crear una lista de números\n",
    "numeros = [1, 2, 3, 4, 5]\n",
    "\n",
    "# Comprobar si un número está en la lista\n",
    "print(3 in numeros)  # Salida: True\n",
    "print(6 in numeros)  # Salida: False\n",
    "\n",
    "# Obtener el tamaño de la lista\n",
    "print(len(numeros))  # Salida: 5\n",
    "\n",
    "# Iterar sobre la lista\n",
    "for numero in numeros:\n",
    "    print(numero)\n",
    "\n",
    "# Aplicar funciones a la lista\n",
    "print(min(numeros))  # Salida: 1\n",
    "print(max(numeros))  # Salida: 5\n",
    "print(sum(numeros))  # Salida: 15"
   ]
  },
  {
   "cell_type": "code",
   "execution_count": 6,
   "metadata": {},
   "outputs": [
    {
     "name": "stdout",
     "output_type": "stream",
     "text": [
      "Lista: [10, 20, 30, 40]\n",
      "Tupla: (10, 20, 30, 40)\n",
      "Cadena: Hola\n",
      "Conjunto: {1, 2, 3, 4}\n",
      "Conjunto inmutable: frozenset({1, 2, 3, 4})\n",
      "Diccionario: {'uno': 1, 'dos': 2, 'tres': 3}\n",
      "defaultdict: defaultdict(<class 'int'>, {'clave': 1})\n",
      "OrderedDict: OrderedDict([('a', 1), ('b', 2)])\n"
     ]
    }
   ],
   "source": [
    "# Tipos de secuencia\n",
    "# Lista\n",
    "mi_lista = [10, 20, 30, 40]\n",
    "print(\"Lista:\", mi_lista)\n",
    "\n",
    "# Tupla\n",
    "mi_tupla = (10, 20, 30, 40)\n",
    "print(\"Tupla:\", mi_tupla)\n",
    "\n",
    "# Cadena\n",
    "mi_cadena = \"Hola\"\n",
    "print(\"Cadena:\", mi_cadena)\n",
    "\n",
    "# Tipos de conjunto\n",
    "# Conjunto\n",
    "mi_conjunto = {1, 2, 3, 4}\n",
    "print(\"Conjunto:\", mi_conjunto)\n",
    "\n",
    "# Conjunto inmutable\n",
    "mi_conjunto_inmutable = frozenset([1, 2, 3, 4])\n",
    "print(\"Conjunto inmutable:\", mi_conjunto_inmutable)\n",
    "\n",
    "# Tipos de mapeo\n",
    "# Diccionario\n",
    "mi_diccionario = {\"uno\": 1, \"dos\": 2, \"tres\": 3}\n",
    "print(\"Diccionario:\", mi_diccionario)\n",
    "\n",
    "# collections: defaultdict\n",
    "from collections import defaultdict\n",
    "mi_defaultdict = defaultdict(int)\n",
    "mi_defaultdict[\"clave\"] += 1\n",
    "print(\"defaultdict:\", mi_defaultdict)\n",
    "\n",
    "# collections: OrderedDict\n",
    "from collections import OrderedDict\n",
    "mi_ordereddict = OrderedDict()\n",
    "mi_ordereddict[\"a\"] = 1\n",
    "mi_ordereddict[\"b\"] = 2\n",
    "print(\"OrderedDict:\", mi_ordereddict)"
   ]
  },
  {
   "cell_type": "code",
   "execution_count": null,
   "metadata": {},
   "outputs": [],
   "source": [
    "# Crear una lista y realizar operaciones básicas\n",
    "lista = [5, 3, 8, 1, 9]\n",
    "print(\"Lista original:\", lista)\n",
    "\n",
    "# Añadir elementos a la lista\n",
    "lista.append(7)\n",
    "print(\"Lista después de añadir un elemento (7):\", lista)\n",
    "\n",
    "# Ordenar la lista\n",
    "lista.sort()\n",
    "print(\"Lista ordenada:\", lista)\n",
    "\n",
    "# Invertir la lista\n",
    "lista.reverse()\n",
    "print(\"Lista invertida:\", lista)"
   ]
  },
  {
   "cell_type": "code",
   "execution_count": null,
   "metadata": {},
   "outputs": [],
   "source": [
    "# Crear una lista de números\n",
    "numeros = [4, 2, 9, 1, 7]\n",
    "\n",
    "# Añadir un elemento al final de la lista\n",
    "numeros.append(5)\n",
    "print(\"Después de append(5):\", numeros)  # Salida: [4, 2, 9, 1, 7, 5]\n",
    "\n",
    "# Ordenar la lista\n",
    "numeros.sort()\n",
    "print(\"Después de sort():\", numeros)  # Salida: [1, 2, 4, 5, 7, 9]\n",
    "\n",
    "# Invertir la lista\n",
    "numeros.reverse()\n",
    "print(\"Después de reverse():\", numeros)  # Salida: [9, 7, 5, 4, 2, 1]\n",
    "\n",
    "# Obtener el índice de un elemento\n",
    "indice = numeros.index(4)\n",
    "print(\"Índice de 4:\", indice)  # Salida: 3\n",
    "\n",
    "# Insertar un elemento en una posición específica\n",
    "numeros.insert(2, 6)\n",
    "print(\"Después de insert(2, 6):\", numeros)  # Salida: [9, 7, 6, 5, 4, 2, 1]\n",
    "\n",
    "# Contar el número de ocurrencias de un elemento\n",
    "contador = numeros.count(7)\n",
    "print(\"Número de ocurrencias de 7:\", contador)  # Salida: 1\n",
    "\n",
    "# Eliminar la primera ocurrencia de un elemento\n",
    "numeros.remove(5)\n",
    "print(\"Después de remove(5):\", numeros)  # Salida: [9, 7, 6, 4, 2, 1]\n",
    "\n",
    "# Eliminar y devolver el último elemento de la lista\n",
    "ultimo = numeros.pop()\n",
    "print(\"Elemento eliminado con pop():\", ultimo)  # Salida: 1\n",
    "print(\"Después de pop():\", numeros)  # Salida: [9, 7, 6, 4, 2]"
   ]
  },
  {
   "cell_type": "code",
   "execution_count": null,
   "metadata": {},
   "outputs": [],
   "source": [
    "# Crear una lista de diccionarios (registros)\n",
    "estudiantes = [\n",
    "    {\"nombre\": \"Ana\", \"nota\": 90},\n",
    "    {\"nombre\": \"Luis\", \"nota\": 85},\n",
    "    {\"nombre\": \"Marta\", \"nota\": 92},\n",
    "    {\"nombre\": \"Carlos\", \"nota\": 88}\n",
    "]\n",
    "\n",
    "# Ordenar la lista de diccionarios por la clave 'nota'\n",
    "estudiantes.sort(key=lambda x: x[\"nota\"])\n",
    "print(\"Lista ordenada por nota:\", estudiantes)"
   ]
  },
  {
   "cell_type": "code",
   "execution_count": null,
   "metadata": {},
   "outputs": [],
   "source": [
    "# Crear una lista de cuadrados de números del 1 al 10\n",
    "cuadrados = [x**2 for x in range(1, 11)]\n",
    "print(\"Cuadrados del 1 al 10:\", cuadrados)  # Salida: [1, 4, 9, 16, 25, 36, 49, 64, 81, 100]\n",
    "\n",
    "# Crear una lista de números pares del 1 al 20\n",
    "pares = [x for x in range(1, 21) if x % 2 == 0]\n",
    "print(\"Números pares del 1 al 20:\", pares)  # Salida: [2, 4, 6, 8, 10, 12, 14, 16, 18, 20]"
   ]
  },
  {
   "cell_type": "code",
   "execution_count": null,
   "metadata": {},
   "outputs": [],
   "source": [
    "# Usar listas como pilas\n",
    "pila = []\n",
    "pila.append('a')\n",
    "pila.append('b')\n",
    "pila.append('c')\n",
    "print(\"Pila después de añadir elementos:\", pila)\n",
    "print(\"Elemento eliminado de la pila:\", pila.pop())\n",
    "print(\"Pila después de eliminar un elemento:\", pila)"
   ]
  },
  {
   "cell_type": "code",
   "execution_count": null,
   "metadata": {},
   "outputs": [],
   "source": [
    "# Usar listas como colas (ineficiente)\n",
    "cola = []\n",
    "cola.append('x')\n",
    "cola.append('y')\n",
    "cola.append('z')\n",
    "print(\"Cola después de añadir elementos:\", cola)\n",
    "print(\"Elemento eliminado de la cola:\", cola.pop(0))\n",
    "print(\"Cola después de eliminar un elemento:\", cola)"
   ]
  },
  {
   "cell_type": "code",
   "execution_count": null,
   "metadata": {},
   "outputs": [],
   "source": [
    "from collections import deque\n",
    "\n",
    "# Usar collections.deque como una cola eficiente\n",
    "cola_deque = deque()\n",
    "cola_deque.append('x')\n",
    "cola_deque.append('y')\n",
    "cola_deque.append('z')\n",
    "print(\"Deque después de añadir elementos:\", cola_deque)\n",
    "print(\"Elemento eliminado de la deque:\", cola_deque.popleft())\n",
    "print(\"Deque después de eliminar un elemento:\", cola_deque)"
   ]
  },
  {
   "cell_type": "code",
   "execution_count": null,
   "metadata": {},
   "outputs": [],
   "source": [
    "from collections import deque\n",
    "\n",
    "# Usar collections.deque como una pila eficiente\n",
    "pila_deque = deque()\n",
    "pila_deque.append('a')\n",
    "pila_deque.append('b')\n",
    "pila_deque.append('c')\n",
    "print(\"Deque después de añadir elementos:\", pila_deque)\n",
    "print(\"Elemento eliminado de la deque:\", pila_deque.pop())\n",
    "print(\"Deque después de eliminar un elemento:\", pila_deque)"
   ]
  }
 ],
 "metadata": {
  "kernelspec": {
   "display_name": "base",
   "language": "python",
   "name": "python3"
  },
  "language_info": {
   "codemirror_mode": {
    "name": "ipython",
    "version": 3
   },
   "file_extension": ".py",
   "mimetype": "text/x-python",
   "name": "python",
   "nbconvert_exporter": "python",
   "pygments_lexer": "ipython3",
   "version": "3.11.8"
  }
 },
 "nbformat": 4,
 "nbformat_minor": 2
}
