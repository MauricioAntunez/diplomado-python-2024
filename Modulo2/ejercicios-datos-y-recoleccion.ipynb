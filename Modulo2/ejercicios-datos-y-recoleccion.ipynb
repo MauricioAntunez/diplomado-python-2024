{
 "cells": [
  {
   "cell_type": "code",
   "execution_count": 2,
   "metadata": {},
   "outputs": [
    {
     "name": "stdout",
     "output_type": "stream",
     "text": [
      "Archivo 'ejemplo.txt' creado.\n"
     ]
    }
   ],
   "source": [
    "with open('ejemplo.txt', 'w') as f:\n",
    "    f.write('Línea 1: Hola mundo\\n')\n",
    "    f.write('Línea 2: Python es genial\\n')\n",
    "    f.write('Línea 3: Este es un ejemplo de lectura de archivos\\n')\n",
    "\n",
    "print(\"Archivo 'ejemplo.txt' creado.\")"
   ]
  },
  {
   "cell_type": "code",
   "execution_count": 1,
   "metadata": {},
   "outputs": [
    {
     "name": "stdout",
     "output_type": "stream",
     "text": [
      "Primeros 20 caracteres usando f.read(20):\n",
      "Línea 1: Hola mundo\n",
      "\n"
     ]
    }
   ],
   "source": [
    "# Modifica el código anterior para leer solo los primeros 20 caracteres del archivo\n",
    "with open('ejemplo.txt', 'r') as f:\n",
    "    contenido_parcial = f.read(20)  # Leer los primeros 20 caracteres\n",
    "    print(\"Primeros 20 caracteres usando f.read(20):\")\n",
    "    print(contenido_parcial)"
   ]
  },
  {
   "cell_type": "code",
   "execution_count": 3,
   "metadata": {},
   "outputs": [
    {
     "name": "stdout",
     "output_type": "stream",
     "text": [
      "Lista original: [4, 8, 2, 6, 7, 1, 9, 0, 3, 5]\n",
      "Lista después de añadir un número (10): [4, 8, 2, 6, 7, 1, 9, 0, 3, 5, 10]\n",
      "Lista ordenada: [0, 1, 2, 3, 4, 5, 6, 7, 8, 9, 10]\n",
      "Lista invertida: [10, 9, 8, 7, 6, 5, 4, 3, 2, 1, 0]\n",
      "Lista después de eliminar el tercer elemento: [10, 9, 7, 6, 5, 4, 3, 2, 1, 0]\n"
     ]
    }
   ],
   "source": [
    "# Crea una lista de 10 números y realiza las siguientes operaciones: añade un número al final, ordena la lista, invierte la lista y elimina el tercer elemento.\n",
    "mi_lista = [4, 8, 2, 6, 7, 1, 9, 0, 3, 5]\n",
    "print(\"Lista original:\", mi_lista)\n",
    "\n",
    "# Añadir un número al final\n",
    "mi_lista.append(10)\n",
    "print(\"Lista después de añadir un número (10):\", mi_lista)\n",
    "\n",
    "# Ordenar la lista\n",
    "mi_lista.sort()\n",
    "print(\"Lista ordenada:\", mi_lista)\n",
    "\n",
    "# Invertir la lista\n",
    "mi_lista.reverse()\n",
    "print(\"Lista invertida:\", mi_lista)\n",
    "\n",
    "# Eliminar el tercer elemento\n",
    "del mi_lista[2]\n",
    "print(\"Lista después de eliminar el tercer elemento:\", mi_lista)"
   ]
  },
  {
   "cell_type": "code",
   "execution_count": 4,
   "metadata": {},
   "outputs": [
    {
     "name": "stdout",
     "output_type": "stream",
     "text": [
      "Pila después de añadir elementos: [1, 2, 3, 4, 5]\n",
      "Elemento eliminado de la pila: 5\n",
      "Pila después de eliminar un elemento: [1, 2, 3, 4]\n",
      "Elemento eliminado de la pila: 4\n",
      "Pila después de eliminar otro elemento: [1, 2, 3]\n"
     ]
    }
   ],
   "source": [
    "# Crea una pila y añade 5 elementos. Luego, elimina dos elementos y muestra la pila en cada paso.\n",
    "mi_pila = []\n",
    "mi_pila.append(1)\n",
    "mi_pila.append(2)\n",
    "mi_pila.append(3)\n",
    "mi_pila.append(4)\n",
    "mi_pila.append(5)\n",
    "print(\"Pila después de añadir elementos:\", mi_pila)\n",
    "\n",
    "# Eliminar dos elementos\n",
    "print(\"Elemento eliminado de la pila:\", mi_pila.pop())\n",
    "print(\"Pila después de eliminar un elemento:\", mi_pila)\n",
    "print(\"Elemento eliminado de la pila:\", mi_pila.pop())\n",
    "print(\"Pila después de eliminar otro elemento:\", mi_pila)"
   ]
  },
  {
   "cell_type": "code",
   "execution_count": 5,
   "metadata": {},
   "outputs": [
    {
     "name": "stdout",
     "output_type": "stream",
     "text": [
      "Cola después de añadir elementos: [1, 2, 3, 4, 5]\n",
      "Elemento eliminado de la cola: 1\n",
      "Cola después de eliminar un elemento: [2, 3, 4, 5]\n"
     ]
    }
   ],
   "source": [
    "# Crea una cola y añade 5 elementos. Luego, elimina el primer elemento y muestra la cola.\n",
    "mi_cola = []\n",
    "mi_cola.append(1)\n",
    "mi_cola.append(2)\n",
    "mi_cola.append(3)\n",
    "mi_cola.append(4)\n",
    "mi_cola.append(5)\n",
    "print(\"Cola después de añadir elementos:\", mi_cola)\n",
    "\n",
    "# Eliminar el primer elemento\n",
    "print(\"Elemento eliminado de la cola:\", mi_cola.pop(0))\n",
    "print(\"Cola después de eliminar un elemento:\", mi_cola)"
   ]
  },
  {
   "cell_type": "code",
   "execution_count": 6,
   "metadata": {},
   "outputs": [
    {
     "name": "stdout",
     "output_type": "stream",
     "text": [
      "Deque después de añadir elementos: deque([1, 2, 3, 4, 5])\n",
      "Elemento eliminado de la deque: 1\n",
      "Deque después de eliminar un elemento: deque([2, 3, 4, 5])\n"
     ]
    }
   ],
   "source": [
    "# Crea una cola usando deque y añade 5 elementos. Luego, elimina el primer elemento y muestra la cola.\n",
    "from collections import deque\n",
    "\n",
    "mi_cola_deque = deque()\n",
    "mi_cola_deque.append(1)\n",
    "mi_cola_deque.append(2)\n",
    "mi_cola_deque.append(3)\n",
    "mi_cola_deque.append(4)\n",
    "mi_cola_deque.append(5)\n",
    "print(\"Deque después de añadir elementos:\", mi_cola_deque)\n",
    "\n",
    "# Eliminar el primer elemento\n",
    "print(\"Elemento eliminado de la deque:\", mi_cola_deque.popleft())\n",
    "print(\"Deque después de eliminar un elemento:\", mi_cola_deque)"
   ]
  },
  {
   "cell_type": "code",
   "execution_count": 7,
   "metadata": {},
   "outputs": [
    {
     "name": "stdout",
     "output_type": "stream",
     "text": [
      "Deque después de añadir elementos: deque([1, 2, 3, 4, 5])\n",
      "Elemento eliminado de la deque: 5\n",
      "Deque después de eliminar un elemento: deque([1, 2, 3, 4])\n"
     ]
    }
   ],
   "source": [
    "# Crea una pila usando deque y añade 5 elementos. Luego, elimina el último elemento y muestra la pila.\n",
    "from collections import deque\n",
    "\n",
    "mi_pila_deque = deque()\n",
    "mi_pila_deque.append(1)\n",
    "mi_pila_deque.append(2)\n",
    "mi_pila_deque.append(3)\n",
    "mi_pila_deque.append(4)\n",
    "mi_pila_deque.append(5)\n",
    "print(\"Deque después de añadir elementos:\", mi_pila_deque)\n",
    "\n",
    "# Eliminar el último elemento\n",
    "print(\"Elemento eliminado de la deque:\", mi_pila_deque.pop())\n",
    "print(\"Deque después de eliminar un elemento:\", mi_pila_deque)"
   ]
  }
 ],
 "metadata": {
  "kernelspec": {
   "display_name": ".venv",
   "language": "python",
   "name": "python3"
  },
  "language_info": {
   "codemirror_mode": {
    "name": "ipython",
    "version": 3
   },
   "file_extension": ".py",
   "mimetype": "text/x-python",
   "name": "python",
   "nbconvert_exporter": "python",
   "pygments_lexer": "ipython3",
   "version": "3.11.8"
  }
 },
 "nbformat": 4,
 "nbformat_minor": 2
}
