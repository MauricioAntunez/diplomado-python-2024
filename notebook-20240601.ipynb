{
 "cells": [
  {
   "cell_type": "code",
   "execution_count": 3,
   "metadata": {},
   "outputs": [
    {
     "name": "stdout",
     "output_type": "stream",
     "text": [
      "82.5\n"
     ]
    }
   ],
   "source": [
    "def calcular_promedio(valores):\n",
    "    total = sum(valores)\n",
    "    cantidad = len(valores)\n",
    "    if cantidad == 0:\n",
    "        return 0\n",
    "    return total/cantidad\n",
    "\n",
    "print(calcular_promedio([75,80,90,85]))"
   ]
  },
  {
   "cell_type": "code",
   "execution_count": 2,
   "metadata": {},
   "outputs": [
    {
     "name": "stdout",
     "output_type": "stream",
     "text": [
      "4\n"
     ]
    }
   ],
   "source": [
    "def contar_valores(lista, valor):\n",
    "    contador = 0\n",
    "    indice = 0\n",
    "    while indice < len(lista):\n",
    "        if lista[indice] == valor:\n",
    "            contador += 1\n",
    "        indice += 1\n",
    "    return contador\n",
    "\n",
    "print(contar_valores([1,2,2,3,2,4,2],2))"
   ]
  },
  {
   "cell_type": "markdown",
   "metadata": {},
   "source": [
    "# OOP en Python"
   ]
  },
  {
   "cell_type": "code",
   "execution_count": null,
   "metadata": {},
   "outputs": [],
   "source": [
    "# Define una clase llamada CuentaBancaria\n",
    "class CuentaBancaria:\n",
    "    # Inicializa la clase con un saldo\n",
    "    def __init__(self, cantidad):\n",
    "        # Inicializa la cantidad con el valor (pasado como argumento)\n",
    "        self.__cantidad = cantidad\n",
    "\n",
    "    # Obtiene el saldo\n",
    "    def obtener_saldo(self):                                \n",
    "        return self.__cantidad\n",
    "\n",
    "    # Deposita dinero\n",
    "    def deposito(self, monto):\n",
    "        # Deposita la cantidad (pasada como argumento)\n",
    "        self.__cantidad += monto\n",
    "\n",
    "    # Retira dinero (cantidad pasada como argumento de la cuenta)\n",
    "    def retiro(self, monto):\n",
    "        # Verifica si hay fondos suficientes para realizar el retiro\n",
    "        if self.__cantidad >= monto:\n",
    "            # Si hay fondos suficientes, resta la cantidad a retirar del saldo\n",
    "            self.__cantidad -= monto\n",
    "        else:\n",
    "            # Si no hay fondos suficientes, imprime un mensaje de error\n",
    "            print(\"Fondos insuficientes\")"
   ]
  },
  {
   "cell_type": "code",
   "execution_count": 8,
   "metadata": {},
   "outputs": [],
   "source": [
    "# Clase base Animal\n",
    "class Animal:\n",
    "    # Constructor de la clase Animal\n",
    "    def __init__(self, nombre):\n",
    "        # Se inicializa el atributo nombre\n",
    "        self.nombre = nombre\n",
    "\n",
    "# Clase Perro que hereda de Animal\n",
    "class Perro(Animal):\n",
    "    # Constructor de la clase Perro\n",
    "    def __init__(self, nombre):\n",
    "        # Se personaliza como se crea el nombre\n",
    "        super().__init__('Perro ' + nombre)\n",
    "\n",
    "    # Método que devuelve el sonido que emite el perro\n",
    "    def emitir_sonido(self):\n",
    "        # Ejemplo de polimorfismo, el mismo metodo retorna un resultado distinto \n",
    "        # dependiendo de en que clase se llame\n",
    "        # Se devuelve el sonido 'Guau'\n",
    "        return 'Guau'\n",
    "\n",
    "# Clase Gato que hereda de Animal\n",
    "class Gato(Animal):\n",
    "    def __init__(self, nombre):\n",
    "        # Se personaliza como se crea el nombre\n",
    "        super().__init__('Gato ' + nombre)\n",
    "\n",
    "\n",
    "    # Método que devuelve el sonido que emite el gato\n",
    "    def emitir_sonido(self):\n",
    "        # Ejemplo de polimorfismo, el mismo metodo retorna un resultado distinto \n",
    "        # dependiendo de en que clase se llame\n",
    "        # Se devuelve el sonido 'Miau'\n",
    "        return 'Miau'\n",
    "\n",
    "\n"
   ]
  },
  {
   "cell_type": "markdown",
   "metadata": {},
   "source": [
    "## Clases que se utilizarian en un sistema de salud"
   ]
  },
  {
   "cell_type": "code",
   "execution_count": null,
   "metadata": {},
   "outputs": [],
   "source": [
    "class Paciente:\n",
    "    def __init__(self, nombre, edad, id_paciente):\n",
    "        self.nombre = nombre\n",
    "        self.edad = edad\n",
    "        self.id_paciente = id_paciente\n",
    "\n",
    "    def actualizar_datos(self, nombre, edad):\n",
    "        self.nombre = nombre\n",
    "        self.edad = edad\n",
    "\n",
    "    def mostrar_info(self):\n",
    "        print(f\"Nombre: {self.nombre}\")\n",
    "        print(f\"Edad: {self.edad}\")\n",
    "        print(f\"ID Paciente: {self.id_paciente}\")"
   ]
  }
 ],
 "metadata": {
  "kernelspec": {
   "display_name": ".venv",
   "language": "python",
   "name": "python3"
  },
  "language_info": {
   "codemirror_mode": {
    "name": "ipython",
    "version": 3
   },
   "file_extension": ".py",
   "mimetype": "text/x-python",
   "name": "python",
   "nbconvert_exporter": "python",
   "pygments_lexer": "ipython3",
   "version": "3.11.8"
  }
 },
 "nbformat": 4,
 "nbformat_minor": 2
}
