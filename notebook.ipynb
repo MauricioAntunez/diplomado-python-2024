{
 "cells": [
  {
   "cell_type": "code",
   "execution_count": 1,
   "metadata": {},
   "outputs": [],
   "source": [
    "primera_variable = \"a\""
   ]
  },
  {
   "cell_type": "code",
   "execution_count": null,
   "metadata": {},
   "outputs": [],
   "source": [
    "a = 10  # integer\n",
    "b = 10.1  # float\n",
    "c = True  # boolean\n",
    "d = \"Hello World\"  # string\n",
    "e = None  # NoneType\n",
    "f = [10, 20, 30]  # list\n",
    "g = (10, 20, 30)  # tuple\n",
    "h = {10, 20, 30}  # set\n",
    "i = {10: \"apple\", 20: \"banana\", 30: \"cherry\"}  # dictionary\n"
   ]
  }
 ],
 "metadata": {
  "kernelspec": {
   "display_name": ".venv",
   "language": "python",
   "name": "python3"
  },
  "language_info": {
   "codemirror_mode": {
    "name": "ipython",
    "version": 3
   },
   "file_extension": ".py",
   "mimetype": "text/x-python",
   "name": "python",
   "nbconvert_exporter": "python",
   "pygments_lexer": "ipython3",
   "version": "3.11.8"
  }
 },
 "nbformat": 4,
 "nbformat_minor": 2
}
