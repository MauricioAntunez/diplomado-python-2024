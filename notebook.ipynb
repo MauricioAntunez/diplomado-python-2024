{
 "cells": [
  {
   "cell_type": "code",
   "execution_count": null,
   "metadata": {},
   "outputs": [],
   "source": [
    "# Tipos de datos más comunes en Python\n",
    "\n",
    "# Números\n",
    "# Los números en Python pueden ser enteros, flotantes o complejos.\n",
    "# Los enteros son números sin decimales, como 1, 2, 3, etc.\n",
    "# Los flotantes son números con decimales, como 1.2, 3.4, 5.6, etc.\n",
    "# Los complejos son números con una parte real y una parte imaginaria, como 1+2j, 3-4j, etc.\n",
    "\n",
    "# Cadenas de caracteres\n",
    "# Las cadenas de caracteres son secuencias de caracteres, como \"hola\", \"mundo\", \"Python\", etc.\n",
    "# Se pueden utilizar para almacenar texto, números o cualquier otro tipo de datos.\n",
    "# Las cadenas de caracteres se pueden concatenar, dividir, indexar, etc.\n",
    "\n",
    "# Listas\n",
    "# Las listas son colecciones ordenadas de elementos.\n",
    "# Pueden almacenar cualquier tipo de datos, como números, cadenas de caracteres, otras listas, etc.\n",
    "# Las listas se pueden indexar, dividir, concatenar, etc.\n",
    "\n",
    "# Tuplas\n",
    "# Las tuplas son colecciones ordenadas de elementos que no se pueden modificar.\n",
    "# Pueden almacenar cualquier tipo de datos, como números, cadenas de caracteres, otras tuplas, etc.\n",
    "# Las tuplas se pueden indexar, dividir, concatenar, etc.\n",
    "\n",
    "# Diccionarios\n",
    "# Los diccionarios son colecciones de pares clave-valor.\n",
    "# Las claves pueden ser cualquier tipo de datos inmutable, como números, cadenas de caracteres o tuplas.\n",
    "# Los valores pueden ser cualquier tipo de datos.\n",
    "# Los diccionarios se pueden indexar, dividir, concatenar, etc.\n"
   ]
  },
  {
   "cell_type": "code",
   "execution_count": 3,
   "metadata": {},
   "outputs": [
    {
     "name": "stdout",
     "output_type": "stream",
     "text": [
      "archivo ejemplo.txt creado\n"
     ]
    }
   ],
   "source": [
    "with open('ejemplo.txt', 'w') as f:\n",
    "    f.write('Linea 1\\n')\n",
    "    f.write('Linea 2\\n')\n",
    "    f.write('Linea 3\\n')\n",
    "\n",
    "    print(\"archivo ejemplo.txt creado\")\n"
   ]
  },
  {
   "cell_type": "code",
   "execution_count": 5,
   "metadata": {},
   "outputs": [
    {
     "name": "stdout",
     "output_type": "stream",
     "text": [
      "Linea 1\n",
      "Linea 2\n",
      "Linea 3\n",
      "\n",
      "archivo ejemplo.txt leído con éxito\n"
     ]
    }
   ],
   "source": [
    "with open(\"ejemplo.txt\", \"r\") as archivo:\n",
    "    contenido = archivo.read()\n",
    "    print(contenido)\n",
    "\n",
    "print(\"archivo ejemplo.txt leído con éxito\")\n"
   ]
  }
 ],
 "metadata": {
  "kernelspec": {
   "display_name": ".venv",
   "language": "python",
   "name": "python3"
  },
  "language_info": {
   "codemirror_mode": {
    "name": "ipython",
    "version": 3
   },
   "file_extension": ".py",
   "mimetype": "text/x-python",
   "name": "python",
   "nbconvert_exporter": "python",
   "pygments_lexer": "ipython3",
   "version": "3.11.8"
  }
 },
 "nbformat": 4,
 "nbformat_minor": 2
}
